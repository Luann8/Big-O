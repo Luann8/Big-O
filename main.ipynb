{
 "cells": [
  {
   "cell_type": "markdown",
   "metadata": {},
   "source": [
    "## Algorithm 1: O(1) - Constant Time\n",
    "The execution time remains constant, regardless of the size of the input. A typical example is accessing a specific element in an array by index.\n"
   ]
  },
  {
   "cell_type": "code",
   "execution_count": 1,
   "metadata": {},
   "outputs": [
    {
     "name": "stdout",
     "output_type": "stream",
     "text": [
      "30\n"
     ]
    }
   ],
   "source": [
    "def constant_access(array, index):\n",
    "    return array[index]\n",
    "\n",
    "# Test\n",
    "array = [10, 20, 30, 40, 50]\n",
    "index = 2\n",
    "print(constant_access(array, index))  # Output: 30"
   ]
  },
  {
   "cell_type": "markdown",
   "metadata": {},
   "source": [
    "## Algorithm 2: O(log n) - Logarithmic Time\n",
    "The execution time grows logarithmically with the size of the input. An example is binary search in a sorted list."
   ]
  },
  {
   "cell_type": "code",
   "execution_count": null,
   "metadata": {},
   "outputs": [],
   "source": [
    "def binary_search(arr, target):\n",
    "    left, right = 0, len(arr) - 1\n",
    "    while left <= right:\n",
    "        mid = (left + right) // 2\n",
    "        if arr[mid] == target:\n",
    "            return mid\n",
    "        elif arr[mid] < target:\n",
    "            left = mid + 1\n",
    "        else:\n",
    "            right = mid - 1\n",
    "    return -1\n",
    "\n",
    "# Test\n",
    "arr = [1, 2, 3, 4, 5, 6, 7, 8, 9, 10]\n",
    "target = 7\n",
    "print(binary_search(arr, target))  # Output: 6 (index of element 7)\n"
   ]
  },
  {
   "cell_type": "markdown",
   "metadata": {},
   "source": [
    "## Algorithm 3: O(n) - Linear Time\n",
    "The execution time grows linearly with the size of the input. An example is iterating through an array and performing an operation on each element."
   ]
  },
  {
   "cell_type": "code",
   "execution_count": null,
   "metadata": {},
   "outputs": [],
   "source": [
    "def sum_elements(arr):\n",
    "    total = 0\n",
    "    for element in arr:\n",
    "        total += element\n",
    "    return total\n",
    "\n",
    "# Test\n",
    "arr = [1, 2, 3, 4, 5]\n",
    "print(sum_elements(arr))  # Output: 15\n"
   ]
  },
  {
   "cell_type": "markdown",
   "metadata": {},
   "source": [
    "## Algorithm 4: O(n log n) - Log-Linear Time\n",
    "The execution time grows faster than logarithmic but slower than polynomial. An example is the Merge Sort algorithm."
   ]
  },
  {
   "cell_type": "code",
   "execution_count": null,
   "metadata": {},
   "outputs": [],
   "source": [
    "def merge_sort(arr):\n",
    "    if len(arr) > 1:\n",
    "        mid = len(arr) // 2\n",
    "        left_half = arr[:mid]\n",
    "        right_half = arr[mid:]\n",
    "\n",
    "        merge_sort(left_half)\n",
    "        merge_sort(right_half)\n",
    "\n",
    "        i = j = k = 0\n",
    "\n",
    "        while i < len(left_half) and j < len(right_half):\n",
    "            if left_half[i] < right_half[j]:\n",
    "                arr[k] = left_half[i]\n",
    "                i += 1\n",
    "            else:\n",
    "                arr[k] = right_half[j]\n",
    "                j += 1\n",
    "            k += 1\n",
    "\n",
    "        while i < len(left_half):\n",
    "            arr[k] = left_half[i]\n",
    "            i += 1\n",
    "            k += 1\n",
    "\n",
    "        while j < len(right_half):\n",
    "            arr[k] = right_half[j]\n",
    "            j += 1\n",
    "            k += 1\n",
    "    return arr\n",
    "\n",
    "# Test\n",
    "arr = [38, 27, 43, 3, 9, 82, 10]\n",
    "print(merge_sort(arr))  # Output: [3, 9, 10, 27, 38, 43, 82]\n"
   ]
  },
  {
   "cell_type": "markdown",
   "metadata": {},
   "source": [
    "## Algorithm 5: O(n²) - Quadratic Time\n",
    "The execution time grows quadratically with the size of the input. An example is the Insertion Sort algorithm."
   ]
  },
  {
   "cell_type": "code",
   "execution_count": null,
   "metadata": {},
   "outputs": [],
   "source": [
    "def insertion_sort(arr):\n",
    "    for i in range(1, len(arr)):\n",
    "        key = arr[i]\n",
    "        j = i - 1\n",
    "        while j >= 0 and key < arr[j]:\n",
    "            arr[j + 1] = arr[j]\n",
    "            j -= 1\n",
    "        arr[j + 1] = key\n",
    "    return arr\n",
    "\n",
    "# Test\n",
    "arr = [12, 11, 13, 5, 6]\n",
    "print(insertion_sort(arr))  # Output: [5, 6, 11, 12, 13]\n"
   ]
  },
  {
   "cell_type": "markdown",
   "metadata": {},
   "source": [
    "## Algorithm 6: O(2^n) - Exponential Time\n",
    "The execution time grows exponentially with the size of the input. An example is solving the Fibonacci sequence using recursion."
   ]
  },
  {
   "cell_type": "code",
   "execution_count": null,
   "metadata": {},
   "outputs": [],
   "source": [
    "def fibonacci(n):\n",
    "    if n <= 1:\n",
    "        return n\n",
    "    else:\n",
    "        return fibonacci(n-1) + fibonacci(n-2)\n",
    "\n",
    "# Test\n",
    "n = 5\n",
    "print(fibonacci(n))  # Output: 5\n"
   ]
  },
  {
   "cell_type": "markdown",
   "metadata": {},
   "source": [
    "## Algorithm 7: O(n!) - Factorial Time\n",
    "The time complexity grows extremely fast, making it impractical for large datasets. An example is solving the Traveling Salesman Problem using brute force."
   ]
  },
  {
   "cell_type": "code",
   "execution_count": null,
   "metadata": {},
   "outputs": [],
   "source": [
    "from itertools import permutations\n",
    "\n",
    "def traveling_salesman(distances):\n",
    "    cities = list(range(len(distances)))\n",
    "    min_cost = float('inf')\n",
    "    best_route = None\n",
    "    for perm in permutations(cities):\n",
    "        cost = 0\n",
    "        for i in range(len(perm) - 1):\n",
    "            cost += distances[perm[i]][perm[i + 1]]\n",
    "        cost += distances[perm[-1]][perm[0]]\n",
    "        if cost < min_cost:\n",
    "            min_cost = cost\n",
    "            best_route = perm\n",
    "    return min_cost, best_route\n",
    "\n",
    "# Test\n",
    "distances = [\n",
    "    [0, 10, 15, 20],\n",
    "    [10, 0, 35, 25],\n",
    "    [15, 35, 0, 30],\n",
    "    [20, 25, 30, 0]\n",
    "]\n",
    "print(traveling_salesman(distances))  # Output: (80, (0, 1, 3, 2))\n"
   ]
  }
 ],
 "metadata": {
  "kernelspec": {
   "display_name": "Python 3",
   "language": "python",
   "name": "python3"
  },
  "language_info": {
   "codemirror_mode": {
    "name": "ipython",
    "version": 3
   },
   "file_extension": ".py",
   "mimetype": "text/x-python",
   "name": "python",
   "nbconvert_exporter": "python",
   "pygments_lexer": "ipython3",
   "version": "3.11.5"
  }
 },
 "nbformat": 4,
 "nbformat_minor": 2
}
